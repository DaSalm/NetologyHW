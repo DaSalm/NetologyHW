{
 "cells": [
  {
   "cell_type": "code",
   "execution_count": 1,
   "metadata": {},
   "outputs": [],
   "source": [
    "import pandas as pd\n",
    "import numpy as np"
   ]
  },
  {
   "cell_type": "markdown",
   "metadata": {},
   "source": [
    "1.1 \n",
    "Дан   произвольный   список, содержащий только числа.\n",
    "Выведите результат сложения всех чисел больше 10. \n"
   ]
  },
  {
   "cell_type": "code",
   "execution_count": 6,
   "metadata": {},
   "outputs": [],
   "source": [
    "numbers = [ 20, 0, -11, 12, 3, 20]"
   ]
  },
  {
   "cell_type": "code",
   "execution_count": 7,
   "metadata": {},
   "outputs": [
    {
     "name": "stdout",
     "output_type": "stream",
     "text": [
      "52\n"
     ]
    }
   ],
   "source": [
    "sum_number_more_10 = 0\n",
    "for x in range(len(numbers)):\n",
    "    if numbers[x] > 10:\n",
    "        sum_number_more_10 += numbers[x]\n",
    "print(sum_number_more_10)"
   ]
  },
  {
   "cell_type": "markdown",
   "metadata": {},
   "source": [
    "1.2 Пусть   задан   список, содержащий строки.\n",
    "Выведите все строки, заканчивающиеся буквой r."
   ]
  },
  {
   "cell_type": "code",
   "execution_count": 8,
   "metadata": {},
   "outputs": [],
   "source": [
    "strings = ['ra', 'bbbb', 'ar', 'baR']"
   ]
  },
  {
   "cell_type": "code",
   "execution_count": 13,
   "metadata": {},
   "outputs": [
    {
     "name": "stdout",
     "output_type": "stream",
     "text": [
      "ar\n"
     ]
    }
   ],
   "source": [
    "len_strings = len(strings)\n",
    "for i in range(len_strings):\n",
    "    if strings[i][-1] == 'r':\n",
    "        print(strings[i])"
   ]
  },
  {
   "cell_type": "markdown",
   "metadata": {},
   "source": [
    "1. 3   \n",
    "Сгенерируйте   и   выведите cлучайную\n",
    "строку размером 6 символов, содержащую\n",
    "только цифры. Строка должна содержать хотя \n",
    "бы одну\n",
    "цифру 3.\n"
   ]
  },
  {
   "cell_type": "code",
   "execution_count": 4,
   "metadata": {},
   "outputs": [],
   "source": [
    "import random"
   ]
  },
  {
   "cell_type": "code",
   "execution_count": 5,
   "metadata": {},
   "outputs": [],
   "source": [
    "\n",
    "def generation_list_num(list_number =''):\n",
    "    while len(list_number) < 6:\n",
    "        list_number+=str(random.randint(0,100))\n",
    "    if '3' in list_number:\n",
    "        return (list_number)\n",
    "    else:\n",
    "        generation_list_num(list_number)\n"
   ]
  },
  {
   "cell_type": "code",
   "execution_count": 6,
   "metadata": {},
   "outputs": [
    {
     "name": "stdout",
     "output_type": "stream",
     "text": [
      "514073\n"
     ]
    }
   ],
   "source": [
    "print(generation_list_num())"
   ]
  },
  {
   "cell_type": "markdown",
   "metadata": {},
   "source": [
    "1.4 Пусть   дана строка произвольной длины. Выведите информацию о том,\n",
    "сколько в ней символов и сколько слов."
   ]
  },
  {
   "cell_type": "code",
   "execution_count": 55,
   "metadata": {},
   "outputs": [],
   "source": [
    "string = 'adasf  hgjg hbb '"
   ]
  },
  {
   "cell_type": "code",
   "execution_count": 63,
   "metadata": {},
   "outputs": [
    {
     "data": {
      "text/plain": [
       "12"
      ]
     },
     "execution_count": 63,
     "metadata": {},
     "output_type": "execute_result"
    }
   ],
   "source": [
    "\"\"\"символов без пробелов\"\"\"\n",
    "len(string) - len([x for x in string if x ==' '])"
   ]
  },
  {
   "cell_type": "code",
   "execution_count": 64,
   "metadata": {},
   "outputs": [
    {
     "data": {
      "text/plain": [
       "3"
      ]
     },
     "execution_count": 64,
     "metadata": {},
     "output_type": "execute_result"
    }
   ],
   "source": [
    "\"\"\"слов\"\"\"\n",
    "len([x for x in string.split(' ') if len(x) > 0])"
   ]
  },
  {
   "cell_type": "markdown",
   "metadata": {},
   "source": [
    "2.1 \n",
    "Пусть   дана матрица чисел размером NхN. Представьте данную матрицу в\n",
    "виде списка. Выведите результат сложения всех элементов \n",
    "матрицы."
   ]
  },
  {
   "cell_type": "code",
   "execution_count": 97,
   "metadata": {},
   "outputs": [],
   "source": [
    "a = np.array( [[0, 5],\n",
    "               [4, 3]] )"
   ]
  },
  {
   "cell_type": "code",
   "execution_count": 105,
   "metadata": {},
   "outputs": [
    {
     "data": {
      "text/plain": [
       "12"
      ]
     },
     "execution_count": 105,
     "metadata": {},
     "output_type": "execute_result"
    }
   ],
   "source": [
    "\"\"\"сложение всех элементов матрицы\"\"\"\n",
    "a.sum()"
   ]
  },
  {
   "cell_type": "code",
   "execution_count": 106,
   "metadata": {},
   "outputs": [
    {
     "name": "stdout",
     "output_type": "stream",
     "text": [
      "[0, 5, 4, 3]\n"
     ]
    }
   ],
   "source": [
    "list_a = []\n",
    "for i in range(a.shape[0]):\n",
    "    for j in range(a.shape[1]):\n",
    "        list_a.append(a[i][j])\n",
    "print(list_a)"
   ]
  },
  {
   "cell_type": "markdown",
   "metadata": {},
   "source": [
    "2.  2 Дана матрица размером NxM. Напишите алгоритм вычисления максимума из сумм элементов каждого столбца."
   ]
  },
  {
   "cell_type": "code",
   "execution_count": 107,
   "metadata": {},
   "outputs": [],
   "source": [
    "matr_a = np.array(\n",
    "    [\n",
    "        [2, 1, 0, 0, 0, 0],\n",
    "        [1, 1, 2, 1, 0, 0],\n",
    "        [2, 0, 1, 0, 0, 0],\n",
    "        [1, 1, 2, 1, 0, 1],\n",
    "        [0, 0, 1, 2, 0, 0],\n",
    "        [0, 0, 0, 0, 0, 5],\n",
    "        [1, 0, 0, 0, 0, 0],\n",
    "        [0, 1, 1, 0, 0, 0],\n",
    "        [0, 0, 0, 1, 1, 3],\n",
    "        [1, 0, 0, 2, 1, 4]\n",
    "    ]\n",
    ")"
   ]
  },
  {
   "cell_type": "code",
   "execution_count": 118,
   "metadata": {},
   "outputs": [],
   "source": [
    "matr_a_t= matr_a.T\n",
    "len_matr= matr_a_t.shape"
   ]
  },
  {
   "cell_type": "code",
   "execution_count": 119,
   "metadata": {},
   "outputs": [
    {
     "name": "stdout",
     "output_type": "stream",
     "text": [
      "8\n"
     ]
    }
   ],
   "source": [
    "sum_list = []\n",
    "for i in range(matr_a.shape[0]):\n",
    "    sum_list.append(sum(matr_a[i]))\n",
    "print(max(sum_list))"
   ]
  },
  {
   "cell_type": "markdown",
   "metadata": {},
   "source": [
    "3.1 \n",
    "Пусть   список студентов представлен в виде структуры [[No, ФИО, Возраст,Группа],[No, ФИО, Возраст, Группа],[No, ФИО, Возраст, Группа]]. \n",
    "Преобразуйте список в словарь вида: {No: [ФИО, Возраст, Группа], No:[....], No: [....]}"
   ]
  },
  {
   "cell_type": "code",
   "execution_count": 145,
   "metadata": {},
   "outputs": [],
   "source": [
    "list_date =[[1, 'df', 23, 'A'],\n",
    " [12, 'hfghf', 33, 'B'],\n",
    " [123, 'lo', 43, 'C']]"
   ]
  },
  {
   "cell_type": "code",
   "execution_count": 149,
   "metadata": {},
   "outputs": [
    {
     "name": "stdout",
     "output_type": "stream",
     "text": [
      "{1: ['df', 23, 'A'], 12: ['hfghf', 33, 'B'], 123: ['lo', 43, 'C']}\n"
     ]
    }
   ],
   "source": [
    "new_dict = {}\n",
    "for x in list_date:\n",
    "    new_dict[x[0]] = x[1:]\n",
    "print (new_dict)"
   ]
  },
  {
   "cell_type": "markdown",
   "metadata": {},
   "source": [
    "3.2 Напишите алгоритм, позволяющий найти запись в словаре из задачи 3.1 (без преобразования словаря обратно в список) по фамилии \n",
    "и изменить в ней номер группы. Фамилию и новый номер группы необходимо ввести с клавиатуры."
   ]
  },
  {
   "cell_type": "code",
   "execution_count": 144,
   "metadata": {},
   "outputs": [
    {
     "name": "stdout",
     "output_type": "stream",
     "text": [
      "FIOhfh\n",
      "GroupB\n",
      "{1: ['hfh', 23, 'B'], 12: ['hfghf', 33, 'B'], 123: ['lo', 43, 'C']}\n"
     ]
    }
   ],
   "source": [
    "fio= 'df'\n",
    "for k,v in new_dict.items():\n",
    "    if fio == v[0]:\n",
    "        new_dict[k]= [input('FIO',), v[1], input('Group',)]\n",
    "print (new_dict)"
   ]
  },
  {
   "cell_type": "markdown",
   "metadata": {},
   "source": [
    "3.  3 Напишите алгоритм, позволяющий аналогично задаче 3.2 изменить возраст студент"
   ]
  },
  {
   "cell_type": "code",
   "execution_count": 150,
   "metadata": {},
   "outputs": [
    {
     "name": "stdout",
     "output_type": "stream",
     "text": [
      "Year old22\n",
      "{1: ['df', 22, 'A'], 12: ['hfghf', 33, 'B'], 123: ['lo', 43, 'C']}\n"
     ]
    }
   ],
   "source": [
    "fio= 'df'\n",
    "for k,v in new_dict.items():\n",
    "    if fio == v[0]:\n",
    "        new_dict[k]= [v[0], int(input('Year old',)),v[2]]\n",
    "print (new_dict)"
   ]
  },
  {
   "cell_type": "code",
   "execution_count": null,
   "metadata": {},
   "outputs": [],
   "source": []
  }
 ],
 "metadata": {
  "kernelspec": {
   "display_name": "Python 3",
   "language": "python",
   "name": "python3"
  },
  "language_info": {
   "codemirror_mode": {
    "name": "ipython",
    "version": 3
   },
   "file_extension": ".py",
   "mimetype": "text/x-python",
   "name": "python",
   "nbconvert_exporter": "python",
   "pygments_lexer": "ipython3",
   "version": "3.7.1"
  }
 },
 "nbformat": 4,
 "nbformat_minor": 2
}
