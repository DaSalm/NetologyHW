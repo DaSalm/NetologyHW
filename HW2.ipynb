{
 "cells": [
  {
   "cell_type": "markdown",
   "metadata": {},
   "source": [
    "# Задание 1\n",
    "\n",
    "Дан список с визитами по городам и странам. Напишите код, который возвращает отфильтрованный список geo_logs, содержащий только визиты из России. Считайте, что список geo_logs легко помещается в оперативной памяти."
   ]
  },
  {
   "cell_type": "code",
   "execution_count": 149,
   "metadata": {},
   "outputs": [
    {
     "name": "stdout",
     "output_type": "stream",
     "text": [
      "['Москва', 'Россия']\n"
     ]
    }
   ],
   "source": [
    "geo_logs = [\n",
    "\n",
    "    {'visit1': ['Москва', 'Россия']},\n",
    "\n",
    "    {'visit2': ['Дели', 'Индия']},\n",
    "\n",
    "    {'visit3': ['Владимир', 'Россия']},\n",
    "\n",
    "    {'visit4': ['Лиссабон', 'Португалия']},\n",
    "\n",
    "    {'visit5': ['Париж', 'Франция']},\n",
    "\n",
    "    {'visit6': ['Лиссабон', 'Португалия']},\n",
    "\n",
    "    {'visit7': ['Тула', 'Россия']},\n",
    "\n",
    "    {'visit8': ['Тула', 'Россия']},\n",
    "\n",
    "    {'visit9': ['Курск', 'Россия']},\n",
    "\n",
    "    {'visit10': ['Архангельск', 'Россия']},\n",
    "]\n",
    "\n",
    "#print(geo_logs[0]['visit1'][0])\n",
    "#list(geo_logs[0].keys())\n"
   ]
  },
  {
   "cell_type": "code",
   "execution_count": 154,
   "metadata": {},
   "outputs": [
    {
     "name": "stdout",
     "output_type": "stream",
     "text": [
      "{'visit1': ['Москва', 'Россия']}\n",
      "{'visit3': ['Владимир', 'Россия']}\n",
      "{'visit7': ['Тула', 'Россия']}\n",
      "{'visit8': ['Тула', 'Россия']}\n",
      "{'visit9': ['Курск', 'Россия']}\n",
      "{'visit10': ['Архангельск', 'Россия']}\n"
     ]
    }
   ],
   "source": [
    "a = len(geo_logs)\n",
    "for i in range(a):\n",
    "    for key in geo_logs[i].values():\n",
    "        if 'Россия' in key:\n",
    "            print(geo_logs[i])"
   ]
  },
  {
   "cell_type": "markdown",
   "metadata": {},
   "source": [
    "# Задание 2\n",
    "\n",
    "Выведите на экран все уникальные гео-ID из значений словаря ids. \n",
    "Т. е. список вида [213, 15, 54, 119, 98, 35]\n",
    "\n",
    "\n"
   ]
  },
  {
   "cell_type": "code",
   "execution_count": 103,
   "metadata": {},
   "outputs": [],
   "source": [
    "ids = {'user1': [213, 213, 213, 15, 213],\n",
    "     'user2': [54, 54, 119, 119, 119],\n",
    "    'user3': [213, 98, 98, 35]}"
   ]
  },
  {
   "cell_type": "code",
   "execution_count": 173,
   "metadata": {},
   "outputs": [
    {
     "name": "stdout",
     "output_type": "stream",
     "text": [
      "[98, 35, 15, 213, 54, 119]\n"
     ]
    }
   ],
   "source": [
    "b = []\n",
    "for key in ids.values():\n",
    "    b = b + list(set(key))\n",
    "b=list(set(b))\n",
    "print(b)"
   ]
  },
  {
   "cell_type": "markdown",
   "metadata": {},
   "source": [
    "\n",
    "# Задание 3\n",
    " \n",
    "Список поисковых запросов. Получить распределение количества слов в них. \n",
    "Т. е. поисковых запросов из одного слова 5%, из двух - 7%, из трех - 3% итд."
   ]
  },
  {
   "cell_type": "code",
   "execution_count": 154,
   "metadata": {},
   "outputs": [],
   "source": [
    "queries = [\n",
    "\n",
    "    'смотреть сериалы онлайн',\n",
    "\n",
    "    'новости спорта',\n",
    "\n",
    "    'афиша кино',\n",
    "\n",
    "    'курс доллара',\n",
    "\n",
    "    'сериалы этим летом',\n",
    "\n",
    "    'курс по питону',\n",
    "\n",
    "    'сериалы про спорт',\n",
    "]"
   ]
  },
  {
   "cell_type": "code",
   "execution_count": 190,
   "metadata": {},
   "outputs": [
    {
     "name": "stdout",
     "output_type": "stream",
     "text": [
      "{3: 57.14, 2: 42.86}\n"
     ]
    }
   ],
   "source": [
    "# вариант 1\n",
    "len_que = len(queries)\n",
    "a_dict={}\n",
    "b_dict={}\n",
    "for i in range (len_que):\n",
    "    len_split = len(queries[i].split(' '))\n",
    "    if len_split in a_dict:       \n",
    "#Как добавить список в словарь?\n",
    "        a_dict[len_split] = a_dict[len_split] + 1\n",
    "        b_dict[len_split] = round(a_dict[len_split]/len_que*100, 2)\n",
    "    else:\n",
    "        a_dict.setdefault(len_split, 1)\n",
    "#         a_dict[len_split] = 1\n",
    "        b_dict[len_split] = round(a_dict[len_split]/len_que*100, 2)\n",
    "print( b_dict)"
   ]
  },
  {
   "cell_type": "code",
   "execution_count": 186,
   "metadata": {},
   "outputs": [
    {
     "name": "stdout",
     "output_type": "stream",
     "text": [
      "{2: 42.86, 3: 57.14}\n"
     ]
    }
   ],
   "source": [
    "# вариант 2 с list comprehension\n",
    "# создание словаря с ключами\n",
    "d = set([len(x.split(' ')) for x in queries])\n",
    "# значения словаря 0\n",
    "d = {k: 0 for k in d}\n",
    "len_que = len(queries)\n",
    "#  считаем кол-во запросов по кол-ву слов в них\n",
    "for i in range (len_que):\n",
    "    len_split = len(queries[i].split(' '))\n",
    "    if len_split in d:       \n",
    "        d[len_split] = d[len_split] + 1\n",
    "    else:\n",
    "        d.setdefault(len_split, 1)\n",
    "# распределение кол-ва слов\n",
    "d = {k: round(v/len_que*100, 2) for k, v in d.items()}\n",
    "print(d)\n",
    "     "
   ]
  },
  {
   "cell_type": "markdown",
   "metadata": {},
   "source": [
    "\n",
    "# Задание 4\n",
    "\n",
    "Дана статистика рекламных каналов по объемам продаж. Напишите скрипт, который возвращает название канала с максимальным объемом.\n",
    "\n",
    "Т. е. в данном примере скрипт должен возвращать \n",
    "'yandex'."
   ]
  },
  {
   "cell_type": "code",
   "execution_count": 105,
   "metadata": {},
   "outputs": [],
   "source": [
    "stats = {\n",
    "    'facebook': 55,\n",
    "     'yandex': 120,\n",
    "   'vk': 115,\n",
    "     'google': 99,\n",
    "    'email': 42,\n",
    "     'ok': 98}"
   ]
  },
  {
   "cell_type": "code",
   "execution_count": 202,
   "metadata": {},
   "outputs": [
    {
     "name": "stdout",
     "output_type": "stream",
     "text": [
      "yandex\n"
     ]
    }
   ],
   "source": [
    "m = max(stats.values())\n",
    "sort_stats = sorted(stats.items(), key=lambda x: -x[1])\n",
    "#sort_stats[0][0]\n",
    "# если больше 1го лидера\n",
    "for k,v in stats.items():\n",
    "    if v == m:\n",
    "        print(k)"
   ]
  },
  {
   "cell_type": "code",
   "execution_count": 98,
   "metadata": {},
   "outputs": [],
   "source": [
    "#sorted(stats.values(), reverse=True)"
   ]
  },
  {
   "cell_type": "markdown",
   "metadata": {},
   "source": [
    "# Задание 5\n",
    "\n",
    "Дан поток логов по количеству просмотренных страниц для каждого пользователя. Список отсортирован по ID пользователя.\n",
    " Вам необходимо написать алгоритм, который считает среднее значение просмотров на пользователя. \n",
    "Т. е. надо посчитать отношение суммы всех просмотров к количеству уникальных пользователей.\n",
    " Учтите, что весь список stream не помещается в оперативную память, т. е. его нужно обрабатывать поэлементно в цикле."
   ]
  },
  {
   "cell_type": "code",
   "execution_count": 214,
   "metadata": {},
   "outputs": [],
   "source": [
    "stream = [ '2018-01-01,user1,3',\n",
    "\n",
    "    '2018-01-07,user1,4',\n",
    "\n",
    "    '2018-03-29,user1,1',\n",
    "\n",
    "    '2018-04-04,user1,13',\n",
    "\n",
    "    '2018-01-05,user2,7',\n",
    "\n",
    "    '2018-06-14,user3,4',\n",
    "\n",
    "    '2018-07-02,user3,10',\n",
    "\n",
    "    '2018-03-21,user4,19',\n",
    "\n",
    "    '2018-03-22,user4,4',\n",
    "\n",
    "    '2018-04-22,user4,8',\n",
    "\n",
    "    '2018-05-03,user4,9',\n",
    "\n",
    "    '2018-05-11,user4,11',\n",
    "]"
   ]
  },
  {
   "cell_type": "code",
   "execution_count": 298,
   "metadata": {},
   "outputs": [
    {
     "name": "stdout",
     "output_type": "stream",
     "text": [
      "{'user1': 5.25, 'user2': 7.0, 'user3': 7.0, 'user4': 10.2}\n"
     ]
    }
   ],
   "source": [
    "d_sum = dict()\n",
    "d_count = dict()\n",
    "d_result = dict()\n",
    "len_stream = len(stream)\n",
    "for i in range (len_stream):\n",
    "    user_stream = stream[i].split(',')[1]\n",
    "    if user_stream in d_sum.keys():\n",
    "        d_sum[user_stream] += int(stream[i].split(',')[2])\n",
    "        d_count[user_stream] += 1\n",
    "    else:\n",
    "        d_sum[user_stream] = int(stream[i].split(',')[2])\n",
    "        d_count[user_stream] = 1\n",
    "for k,v in d_count.items():\n",
    "    d_result[k] = d_sum[k]/d_count[k]\n",
    "print(d_result)"
   ]
  },
  {
   "cell_type": "markdown",
   "metadata": {},
   "source": [
    "\n",
    "# Задание 6\n",
    "\n",
    "Дана статистика рекламных кампаний по дням. Напишите алгоритм, который по паре дата-кампания ищет значение численного столбца. \n",
    "Т. е. для даты '2018-01-01' и 'google' нужно получить число 25. \n",
    "Считайте, что все комбинации дата-кампания уникальны, а список stats легко помещается в оперативной памяти.\n"
   ]
  },
  {
   "cell_type": "code",
   "execution_count": 299,
   "metadata": {},
   "outputs": [],
   "source": [
    "stats = [\n",
    "\n",
    "    ['2018-01-01', 'google', 25],\n",
    "\n",
    "    ['2018-01-01', 'yandex', 65],\n",
    "\n",
    "    ['2018-01-01', 'market', 89],\n",
    "\n",
    "    ['2018-01-02', 'google', 574],\n",
    "\n",
    "    ['2018-01-02', 'yandex', 249],\n",
    "\n",
    "    ['2018-01-02', 'market', 994],\n",
    "\n",
    "    ['2018-01-03', 'google', 1843],\n",
    "\n",
    "    ['2018-01-03', 'yandex', 1327],\n",
    "\n",
    "    ['2018-01-03', 'market', 1764],\n",
    "\n",
    "]"
   ]
  },
  {
   "cell_type": "code",
   "execution_count": 315,
   "metadata": {},
   "outputs": [
    {
     "data": {
      "text/plain": [
       "[25]"
      ]
     },
     "execution_count": 315,
     "metadata": {},
     "output_type": "execute_result"
    }
   ],
   "source": [
    "[ x[2] for x in stats if '2018-01-01' in x[0] and 'google' in x[1] ]\n"
   ]
  },
  {
   "cell_type": "code",
   "execution_count": null,
   "metadata": {},
   "outputs": [],
   "source": []
  }
 ],
 "metadata": {
  "kernelspec": {
   "display_name": "Python 3",
   "language": "python",
   "name": "python3"
  },
  "language_info": {
   "codemirror_mode": {
    "name": "ipython",
    "version": 3
   },
   "file_extension": ".py",
   "mimetype": "text/x-python",
   "name": "python",
   "nbconvert_exporter": "python",
   "pygments_lexer": "ipython3",
   "version": "3.7.1"
  }
 },
 "nbformat": 4,
 "nbformat_minor": 2
}
