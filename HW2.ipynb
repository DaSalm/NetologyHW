{
 "cells": [
  {
   "cell_type": "markdown",
   "metadata": {},
   "source": [
    "# Задание 1\n",
    "\n",
    "Дан список с визитами по городам и странам. Напишите код, который возвращает отфильтрованный список geo_logs, содержащий только визиты из России. Считайте, что список geo_logs легко помещается в оперативной памяти."
   ]
  },
  {
   "cell_type": "code",
   "execution_count": 149,
   "metadata": {},
   "outputs": [
    {
     "name": "stdout",
     "output_type": "stream",
     "text": [
      "['Москва', 'Россия']\n"
     ]
    }
   ],
   "source": [
    "geo_logs = [\n",
    "\n",
    "\t{'visit1': ['Москва', 'Россия']},\n",
    "\n",
    "\t{'visit2': ['Дели', 'Индия']},\n",
    "\n",
    "\t{'visit3': ['Владимир', 'Россия']},\n",
    "\n",
    "\t{'visit4': ['Лиссабон', 'Португалия']},\n",
    "\n",
    "\t{'visit5': ['Париж', 'Франция']},\n",
    "\n",
    "\t{'visit6': ['Лиссабон', 'Португалия']},\n",
    "\n",
    "\t{'visit7': ['Тула', 'Россия']},\n",
    "\n",
    "\t{'visit8': ['Тула', 'Россия']},\n",
    "\n",
    "\t{'visit9': ['Курск', 'Россия']},\n",
    "\n",
    "\t{'visit10': ['Архангельск', 'Россия']},\n",
    "]\n",
    "\n",
    "#print(geo_logs[0]['visit1'][0])\n",
    "#list(geo_logs[0].keys())\n"
   ]
  },
  {
   "cell_type": "code",
   "execution_count": 154,
   "metadata": {},
   "outputs": [
    {
     "name": "stdout",
     "output_type": "stream",
     "text": [
      "{'visit1': ['Москва', 'Россия']}\n",
      "{'visit3': ['Владимир', 'Россия']}\n",
      "{'visit7': ['Тула', 'Россия']}\n",
      "{'visit8': ['Тула', 'Россия']}\n",
      "{'visit9': ['Курск', 'Россия']}\n",
      "{'visit10': ['Архангельск', 'Россия']}\n"
     ]
    }
   ],
   "source": [
    "a = len(geo_logs)\n",
    "for i in range(a):\n",
    "    for key in geo_logs[i].values():\n",
    "        if 'Россия' in key:\n",
    "            print(geo_logs[i])"
   ]
  },
  {
   "cell_type": "code",
   "execution_count": null,
   "metadata": {},
   "outputs": [],
   "source": []
  },
  {
   "cell_type": "markdown",
   "metadata": {},
   "source": [
    "# Задание 2\n",
    "\n",
    "Выведите на экран все уникальные гео-ID из значений словаря ids. \n",
    "Т. е. список вида [213, 15, 54, 119, 98, 35]\n",
    "\n",
    "\n"
   ]
  },
  {
   "cell_type": "code",
   "execution_count": 103,
   "metadata": {},
   "outputs": [],
   "source": [
    "ids = {'user1': [213, 213, 213, 15, 213],\n",
    "     'user2': [54, 54, 119, 119, 119],\n",
    "    'user3': [213, 98, 98, 35]}"
   ]
  },
  {
   "cell_type": "code",
   "execution_count": 173,
   "metadata": {},
   "outputs": [
    {
     "name": "stdout",
     "output_type": "stream",
     "text": [
      "[98, 35, 15, 213, 54, 119]\n"
     ]
    }
   ],
   "source": [
    "b = []\n",
    "for key in ids.values():\n",
    "    b = b + list(set(key))\n",
    "b=list(set(b))\n",
    "print(b)"
   ]
  },
  {
   "cell_type": "markdown",
   "metadata": {},
   "source": [
    "\n",
    "# Задание 3\n",
    " \n",
    "Список поисковых запросов. Получить распределение количества слов в них. \n",
    "Т. е. поисковых запросов из одного слова 5%, из двух - 7%, из трех - 3% итд."
   ]
  },
  {
   "cell_type": "code",
   "execution_count": 9,
   "metadata": {},
   "outputs": [],
   "source": [
    "queries = [\n",
    "\n",
    "    'смотреть сериалы онлайн',\n",
    "\n",
    "    'новости спорта',\n",
    "\n",
    "    'афиша кино',\n",
    "\n",
    "    'курс доллара',\n",
    "\n",
    "    'сериалы этим летом',\n",
    "\n",
    "    'курс по питону',\n",
    "\n",
    "    'сериалы про спорт',\n",
    "]"
   ]
  },
  {
   "cell_type": "code",
   "execution_count": 55,
   "metadata": {},
   "outputs": [
    {
     "name": "stdout",
     "output_type": "stream",
     "text": [
      "{3: 4, 2: 3} {3: 57.14, 2: 42.86}\n"
     ]
    }
   ],
   "source": [
    "len_que = len(queries)\n",
    "a_dict={}\n",
    "b_dict={}\n",
    "for i in range (len_que):\n",
    "    len_split = len(queries[i].split(' '))\n",
    "    if len_split in a_dict:       \n",
    "#Как добавить список в словарь?\n",
    "        a_dict[len_split] = a_dict[len_split] + 1\n",
    "        b_dict[len_split] = round(a_dict[len_split]/len_que*100, 2)\n",
    "    else:\n",
    "        a_dict.setdefault(len_split, 1)\n",
    "#        a_dict[len_split] = 1\n",
    "        b_dict[len_split] = round(a_dict[len_split]/len_que*100, 2)\n",
    "print(a_dict, b_dict)"
   ]
  },
  {
   "cell_type": "markdown",
   "metadata": {},
   "source": [
    "\n",
    "# Задание 4\n",
    "\n",
    "Дана статистика рекламных каналов по объемам продаж. Напишите скрипт, который возвращает название канала с максимальным объемом.\n",
    "\n",
    "Т. е. в данном примере скрипт должен возвращать \n",
    "'yandex'."
   ]
  },
  {
   "cell_type": "code",
   "execution_count": 75,
   "metadata": {},
   "outputs": [],
   "source": [
    "stats = {\n",
    "    'facebook': 55,\n",
    "     'yandex': 120,\n",
    "   'vk': 115,\n",
    "     'google': 99,\n",
    "    'email': 42,\n",
    "     'ok': 98}"
   ]
  },
  {
   "cell_type": "code",
   "execution_count": 102,
   "metadata": {},
   "outputs": [
    {
     "ename": "SyntaxError",
     "evalue": "invalid syntax (<ipython-input-102-23a3439c1b2c>, line 2)",
     "output_type": "error",
     "traceback": [
      "\u001b[0;36m  File \u001b[0;32m\"<ipython-input-102-23a3439c1b2c>\"\u001b[0;36m, line \u001b[0;32m2\u001b[0m\n\u001b[0;31m    [ x for x in stats if max(stats.values()]\u001b[0m\n\u001b[0m                                            ^\u001b[0m\n\u001b[0;31mSyntaxError\u001b[0m\u001b[0;31m:\u001b[0m invalid syntax\n"
     ]
    }
   ],
   "source": [
    "m = max(stats.values())\n",
    "[ x for x in stats if max(stats.values()]"
   ]
  },
  {
   "cell_type": "code",
   "execution_count": 98,
   "metadata": {},
   "outputs": [],
   "source": [
    "#sorted(stats.values(), reverse=True)"
   ]
  },
  {
   "cell_type": "code",
   "execution_count": null,
   "metadata": {},
   "outputs": [],
   "source": []
  }
 ],
 "metadata": {
  "kernelspec": {
   "display_name": "Python 3",
   "language": "python",
   "name": "python3"
  },
  "language_info": {
   "codemirror_mode": {
    "name": "ipython",
    "version": 3
   },
   "file_extension": ".py",
   "mimetype": "text/x-python",
   "name": "python",
   "nbconvert_exporter": "python",
   "pygments_lexer": "ipython3",
   "version": "3.7.1"
  }
 },
 "nbformat": 4,
 "nbformat_minor": 2
}
