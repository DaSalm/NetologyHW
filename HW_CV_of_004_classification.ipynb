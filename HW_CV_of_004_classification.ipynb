{
  "nbformat": 4,
  "nbformat_minor": 0,
  "metadata": {
    "kernelspec": {
      "display_name": "Python 3",
      "language": "python",
      "name": "python3"
    },
    "language_info": {
      "codemirror_mode": {
        "name": "ipython",
        "version": 3
      },
      "file_extension": ".py",
      "mimetype": "text/x-python",
      "name": "python",
      "nbconvert_exporter": "python",
      "pygments_lexer": "ipython3",
      "version": "3.6.4"
    },
    "colab": {
      "name": "HW CV of 004-classification.ipynb",
      "provenance": [],
      "collapsed_sections": [],
      "include_colab_link": true
    }
  },
  "cells": [
    {
      "cell_type": "markdown",
      "metadata": {
        "id": "view-in-github",
        "colab_type": "text"
      },
      "source": [
        "<a href=\"https://colab.research.google.com/github/DaSalm/NetologyHW/blob/master/HW_CV_of_004_classification.ipynb\" target=\"_parent\"><img src=\"https://colab.research.google.com/assets/colab-badge.svg\" alt=\"Open In Colab\"/></a>"
      ]
    },
    {
      "cell_type": "markdown",
      "metadata": {
        "id": "YDrbshqSMhg4",
        "colab_type": "text"
      },
      "source": [
        "# Реализация логистической регрессии в TensorFlow"
      ]
    },
    {
      "cell_type": "code",
      "metadata": {
        "id": "RpnqiNIVMhg7",
        "colab_type": "code",
        "outputId": "12eb3671-cca7-4008-9254-93ff0f1c8efe",
        "colab": {
          "base_uri": "https://localhost:8080/",
          "height": 64
        }
      },
      "source": [
        "import numpy as np\n",
        "import tensorflow as tf"
      ],
      "execution_count": 1,
      "outputs": [
        {
          "output_type": "display_data",
          "data": {
            "text/html": [
              "<p style=\"color: red;\">\n",
              "The default version of TensorFlow in Colab will soon switch to TensorFlow 2.x.<br>\n",
              "We recommend you <a href=\"https://www.tensorflow.org/guide/migrate\" target=\"_blank\">upgrade</a> now \n",
              "or ensure your notebook will continue to use TensorFlow 1.x via the <code>%tensorflow_version 1.x</code> magic:\n",
              "<a href=\"https://colab.research.google.com/notebooks/tensorflow_version.ipynb\" target=\"_blank\">more info</a>.</p>\n"
            ],
            "text/plain": [
              "<IPython.core.display.HTML object>"
            ]
          },
          "metadata": {
            "tags": []
          }
        }
      ]
    },
    {
      "cell_type": "code",
      "metadata": {
        "id": "GMQ0T40CMhg_",
        "colab_type": "code",
        "colab": {}
      },
      "source": [
        "%matplotlib inline\n",
        "from matplotlib import pyplot as plt"
      ],
      "execution_count": 0,
      "outputs": []
    },
    {
      "cell_type": "markdown",
      "metadata": {
        "id": "E2lfcBnLMhhC",
        "colab_type": "text"
      },
      "source": [
        "## Генерируем данные для задачи регрессии"
      ]
    },
    {
      "cell_type": "code",
      "metadata": {
        "id": "n9o1bnumMhhD",
        "colab_type": "code",
        "colab": {}
      },
      "source": [
        "NUM_FEATURES = 2\n",
        "NUM_SAMPLES = 1000"
      ],
      "execution_count": 0,
      "outputs": []
    },
    {
      "cell_type": "code",
      "metadata": {
        "id": "5N8eyzE3MhhI",
        "colab_type": "code",
        "outputId": "a383aa11-5ac8-4e4f-e106-4811c3654d92",
        "colab": {
          "base_uri": "https://localhost:8080/",
          "height": 279
        }
      },
      "source": [
        "from sklearn.datasets import make_classification\n",
        "\n",
        "X, y = make_classification(n_samples = NUM_SAMPLES,\n",
        "                           n_features = NUM_FEATURES,\n",
        "                           n_informative = NUM_FEATURES,\n",
        "                           n_redundant = 0,\n",
        "                           n_classes = 2,\n",
        "                           n_clusters_per_class = 1,\n",
        "                           class_sep = 0.75,\n",
        "                           random_state = 54312)\n",
        "\n",
        "y = y.reshape(-1, 1)\n",
        "\n",
        "ones = np.where(y == 1)   # индексы объектов класса '1'\n",
        "zeros = np.where(y == 0)  # индексы объектов класса '0'\n",
        "\n",
        "plt.xlabel('x')\n",
        "plt.ylabel('y')\n",
        "plt.plot(X[ones, 0], X[ones, 1], 'ob',\n",
        "         X[zeros, 0], X[zeros, 1], 'or');"
      ],
      "execution_count": 4,
      "outputs": [
        {
          "output_type": "display_data",
          "data": {
            "image/png": "[encoded data removed]",
            "text/plain": [
              "<Figure size 432x288 with 1 Axes>"
            ]
          },
          "metadata": {
            "tags": []
          }
        }
      ]
    },
    {
      "cell_type": "markdown",
      "metadata": {
        "id": "KGuzWZRTMhhN",
        "colab_type": "text"
      },
      "source": [
        "## Вспомогательная функция для создания операций"
      ]
    },
    {
      "cell_type": "code",
      "metadata": {
        "id": "8RqL3QCXMhhO",
        "colab_type": "code",
        "colab": {}
      },
      "source": [
        "import string\n",
        "\n",
        "def py_func_with_grad(func, inp, Tout, grad, name = None, stateful = False, graph = None):\n",
        "    \n",
        "    name_prefix = ''.join(np.random.choice(list(string.ascii_letters), size = 10))\n",
        "    \n",
        "    name = '%s_%s' % (name_prefix, name or '')\n",
        "    grad_func_name = '%s_grad' % name\n",
        "\n",
        "    tf.RegisterGradient(grad_func_name)(grad)\n",
        "\n",
        "    g = graph or tf.get_default_graph()\n",
        "    with g.gradient_override_map({'PyFunc': grad_func_name, \n",
        "                                  'PyFuncStateless': grad_func_name}):\n",
        "        with tf.name_scope(name, 'PyFuncOp', inp):\n",
        "            return tf.py_func(func, inp, Tout, stateful = stateful, name = name)"
      ],
      "execution_count": 0,
      "outputs": []
    },
    {
      "cell_type": "markdown",
      "metadata": {
        "id": "AlqPjONTMhhR",
        "colab_type": "text"
      },
      "source": [
        "## Реализация линейной опреаций"
      ]
    },
    {
      "cell_type": "code",
      "metadata": {
        "id": "yje3M79fMhhS",
        "colab_type": "code",
        "colab": {}
      },
      "source": [
        "def linear_op_forward(X, W):\n",
        "    ''' Реализация линейной операции '''\n",
        "    return np.dot(X, W.T)  # аргументы являются numpy-массивами\n",
        "\n",
        "def linear_op_backward(op, grads):\n",
        "    ''' Реализация вычисления градиента линейной операции '''\n",
        "    X = op.inputs[0]  # тензор входных данных\n",
        "    W = op.inputs[1]  # тензор параметров модели\n",
        "    dX = tf.multiply(grads, W)\n",
        "    dW = tf.reduce_sum(tf.multiply(X, grads),\n",
        "                       axis = 0,\n",
        "                       keep_dims = True)\n",
        "    return dX, dW\n",
        "\n",
        "def sigmoid_op_forward(X):\n",
        "    # TODO: реализовать операцию sigmoid\n",
        "    tf_sigmoid = 1/(1 + tf.math.exp(-X))\n",
        "    # sigmoid = 1 / (1 + np.exp(-X))\n",
        "    #tf_sigmoid = tf.math.sigmoid(X, name=None)\n",
        "    return tf.Session().run(tf_sigmoid)\n",
        "    # return sigmoid\n",
        "    # return np.zeros_like(X)\n",
        "\n",
        "def sigmoid_op_backward(op, grads):\n",
        "    # TODO: реализовать вычисление градиента для sigmoid\n",
        "    # нагуглено, не понимаю что такое op\n",
        "    # return tf.zeros([1, 1])\n",
        "    sigmoid = op.outputs[0]\n",
        "    # print (op.outputs[0])\n",
        "    return sigmoid * (1 - sigmoid) * grads"
      ],
      "execution_count": 0,
      "outputs": []
    },
    {
      "cell_type": "markdown",
      "metadata": {
        "id": "Je9w0V6VMhhU",
        "colab_type": "text"
      },
      "source": [
        "## Создание графа вычислений и обучение модели"
      ]
    },
    {
      "cell_type": "code",
      "metadata": {
        "scrolled": false,
        "id": "FKlWo2esMhhX",
        "colab_type": "code",
        "outputId": "74b7574c-71d8-4760-800d-4eec4d55542c",
        "colab": {
          "base_uri": "https://localhost:8080/",
          "height": 191
        }
      },
      "source": [
        "BATCH_SIZE = NUM_SAMPLES // 10\n",
        "\n",
        "weights = None  # в этой переменной мы сохраним результат обучения модели\n",
        "learning_curve = []  # значения ошибки на каждой итерации обучения\n",
        "\n",
        "with tf.Session(graph = tf.Graph()) as sess:  # инициализируем сессию вычислений\n",
        "    \n",
        "    # создаем placeholdr'ы, через них мы будем\n",
        "    # передавать внешние данные в граф вычислений\n",
        "    plh_X = tf.placeholder(dtype = tf.float32, shape = [None, NUM_FEATURES])\n",
        "    plh_labels = tf.placeholder(dtype = tf.float32, shape = [None, 1])\n",
        "\n",
        "    # создаем переменную для хранения весов модели\n",
        "    # эти веса будут изменяться в процессе обучения\n",
        "    var_W = tf.Variable(tf.random_uniform(shape = [1, NUM_FEATURES],\n",
        "                                          dtype = tf.float32,\n",
        "                                          seed = 54321))\n",
        "    \n",
        "    # создаем переменную для результата предсказания модели\n",
        "    var_Pred = py_func_with_grad(linear_op_forward,         # функция предсказания модели \n",
        "                                 [plh_X, var_W],            # аргументы функции\n",
        "                                 [tf.float32],              # тип выходных значений\n",
        "                                 name = 'linear_op',        # имя операции \n",
        "                                 grad = linear_op_backward, # функция для вычисления градиента\n",
        "                                 graph = sess.graph)        # объект графа вчислений\n",
        "    \n",
        "    # создаем переменную для результата операции sigmoid\n",
        "    var_Sigmoid = py_funfc_with_grad(sigmoid_op_forward,\n",
        "                                    [var_Pred],\n",
        "                                    [tf.float32],\n",
        "                                    name = 'sigmoid_op',\n",
        "                                    grad = sigmoid_op_backward,\n",
        "                                    graph = sess.graph)\n",
        "    \n",
        "    # кроссэнтропийная функция потерь для бмнарной классификации\n",
        "    cost = tf.losses.sigmoid_cross_entropy(plh_labels, var_Sigmoid)\n",
        "    \n",
        "    # инициализируем оптимизатор и указываем скорость обучения\n",
        "    optimizer = tf.train.GradientDescentOptimizer(learning_rate = 0.9).minimize(cost)\n",
        "\n",
        "    # инициализируем placeholder'ы и переменные\n",
        "    sess.run(tf.global_variables_initializer())\n",
        "    \n",
        "    indices = np.arange(len(X))  # массив индексов объектов\n",
        "    \n",
        "    # выполняем итерации по 10-ти эпохам\n",
        "    for epoch in range(10):\n",
        "        \n",
        "        # вначале каждой эпохи перемешиваем индексы\n",
        "        np.random.shuffle(indices)\n",
        "        \n",
        "        # внутри каждой эпохи данные разбиваются на батчи\n",
        "        for batch in range(len(X) // BATCH_SIZE):\n",
        "            \n",
        "            # выбираем индексы очередного батча\n",
        "            batch_indices = indices[batch * BATCH_SIZE:(batch + 1) * BATCH_SIZE]\n",
        "\n",
        "            # выполняем шаг обучения: вычисляем ошибку и обновляем веса\n",
        "            loss, _ = sess.run([cost, optimizer],  # указываем, какие операции необходимо выполнить\n",
        "                               feed_dict = {plh_X: X[batch_indices],  # передаем входные данные для вычисления\n",
        "                                            plh_labels: y[batch_indices]})\n",
        "        \n",
        "            # сохраняем занчения ошибки для построения кривой обучения\n",
        "            learning_curve.append(loss)\n",
        "            \n",
        "            # выводим текущее значение ошибки для каждого 10го шага\n",
        "            steps = len(learning_curve) - 1\n",
        "            if steps % 10 == 0:\n",
        "                print('[%03d] loss=%.3f weights=%s' % (steps, loss, var_W.eval()))\n",
        "    \n",
        "    # сохраняем обученные веса\n",
        "    weights = var_W.eval()"
      ],
      "execution_count": 53,
      "outputs": [
        {
          "output_type": "stream",
          "text": [
            "[000] loss=0.757 weights=[[0.4097026  0.18583034]]\n",
            "[010] loss=0.652 weights=[[ 0.17695026 -0.5816763 ]]\n",
            "[020] loss=0.668 weights=[[ 0.04375134 -1.1840198 ]]\n",
            "[030] loss=0.590 weights=[[ 0.02797185 -1.612956  ]]\n",
            "[040] loss=0.616 weights=[[ 0.04338012 -1.9423211 ]]\n",
            "[050] loss=0.594 weights=[[ 0.0731434 -2.2058554]]\n",
            "[060] loss=0.658 weights=[[ 0.08596068 -2.4347084 ]]\n",
            "[070] loss=0.608 weights=[[ 0.11907203 -2.6296403 ]]\n",
            "[080] loss=0.582 weights=[[ 0.14103024 -2.8066127 ]]\n",
            "[090] loss=0.587 weights=[[ 0.16288367 -2.9618242 ]]\n"
          ],
          "name": "stdout"
        }
      ]
    },
    {
      "cell_type": "markdown",
      "metadata": {
        "id": "vIVNB_jKMhha",
        "colab_type": "text"
      },
      "source": [
        "## Визуализируем кривую обучения"
      ]
    },
    {
      "cell_type": "code",
      "metadata": {
        "id": "CmWPngt_Mhhb",
        "colab_type": "code",
        "outputId": "644a6084-7d68-4734-beac-d32ab55c5ff7",
        "colab": {
          "base_uri": "https://localhost:8080/",
          "height": 295
        }
      },
      "source": [
        "plt.xlabel('step')\n",
        "plt.ylabel('loss')\n",
        "plt.title('Learning curve')\n",
        "plt.plot(learning_curve);"
      ],
      "execution_count": 54,
      "outputs": [
        {
          "output_type": "display_data",
          "data": {
            "image/png": "[encoded data removed]",
            "text/plain": [
              "<Figure size 432x288 with 1 Axes>"
            ]
          },
          "metadata": {
            "tags": []
          }
        }
      ]
    },
    {
      "cell_type": "markdown",
      "metadata": {
        "id": "zQfOhb-TMhhe",
        "colab_type": "text"
      },
      "source": [
        "## Визуализируем разделяющую гиперплоскость"
      ]
    },
    {
      "cell_type": "code",
      "metadata": {
        "id": "928lpVGhMhhe",
        "colab_type": "code",
        "outputId": "610e7332-3e1f-470d-94b5-fd8d73288a56",
        "colab": {
          "base_uri": "https://localhost:8080/",
          "height": 279
        }
      },
      "source": [
        "y_pred = - X[:, 0] * weights[0, 0] / weights[0, 1]\n",
        "\n",
        "order = np.argsort(X[:, 0])\n",
        "\n",
        "plt.xlabel('x')\n",
        "plt.ylabel('y')\n",
        "plt.plot(X[ones, 0], X[ones, 1], 'ob',\n",
        "         X[zeros, 0], X[zeros, 1], 'or',\n",
        "         X[order, 0], y_pred[order], '-g');"
      ],
      "execution_count": 55,
      "outputs": [
        {
          "output_type": "display_data",
          "data": {
            "image/png": "[encoded data removed]",
            "text/plain": [
              "<Figure size 432x288 with 1 Axes>"
            ]
          },
          "metadata": {
            "tags": []
          }
        }
      ]
    },
    {
      "cell_type": "code",
      "metadata": {
        "id": "eyLJ3uMMqVJA",
        "colab_type": "code",
        "colab": {}
      },
      "source": [
        ""
      ],
      "execution_count": 0,
      "outputs": []
    }
  ]
}